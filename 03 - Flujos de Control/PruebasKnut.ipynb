
pru = {
    'valor1':'rojo',
    'valor2':[4,3,2,5],
    'valor3':'tres'
}
print(pru['valor1'])
        
