{
 "cells": [
  {
   "cell_type": "markdown",
   "metadata": {},
   "source": [
    "1) Crear una función que reciba un número como parámetro y devuelva True si es primo y False si no lo es"
   ]
  },
  {
   "cell_type": "code",
   "execution_count": 6,
   "metadata": {},
   "outputs": [
    {
     "name": "stdout",
     "output_type": "stream",
     "text": [
      "0\n",
      "1\n",
      "2\n",
      "5\n",
      "11\n",
      "13\n",
      "17\n",
      "19\n"
     ]
    }
   ],
   "source": [
    "def esPrimo(num):\n",
    "    if num == 2 or num == 1 or num == 5 or num == 0:\n",
    "        return True\n",
    "    for i in range(2,9):\n",
    "        if num % i == 0:\n",
    "            return False\n",
    "    return True\n",
    "# Prueba\n",
    "for i in range(0,20):\n",
    "    if(esPrimo(i)):\n",
    "        print(i)"
   ]
  },
  {
   "cell_type": "markdown",
   "metadata": {},
   "source": [
    "2) Utilizando la función del punto 1, realizar otra función que reciba de parámetro una lista de números y devuelva sólo aquellos que son primos en otra lista"
   ]
  },
  {
   "cell_type": "code",
   "execution_count": 9,
   "metadata": {},
   "outputs": [
    {
     "data": {
      "text/plain": [
       "[1, 2, 5, 47, 97, 89, 73]"
      ]
     },
     "execution_count": 9,
     "metadata": {},
     "output_type": "execute_result"
    }
   ],
   "source": [
    "lista=[1,2,3,45,6,8,7,5,25,47,56,8,97,89,73]\n",
    "def sonPrimos(arr):\n",
    "    aux = []\n",
    "    for i in arr:\n",
    "        if esPrimo(i):\n",
    "            aux.append(i)\n",
    "    return aux\n",
    "sonPrimos(lista)\n"
   ]
  },
  {
   "cell_type": "markdown",
   "metadata": {},
   "source": [
    "3) Crear una función que al recibir una lista de números, devuelva el que más se repite y cuántas veces lo hace. Si hay más de un \"más repetido\", que devuelva cualquiera"
   ]
  },
  {
   "cell_type": "code",
   "execution_count": 3,
   "metadata": {},
   "outputs": [
    {
     "name": "stdout",
     "output_type": "stream",
     "text": [
      "Diccionario numeros {1: 4, 2: 4, 3: 2, 45: 1, 6: 1, 8: 1, 7: 1, 5: 1}\n",
      "Numero 1 repite 4 veces\n"
     ]
    }
   ],
   "source": [
    "lista=[1,1,1,2,3,2,2,1,2,3,45,6,8,7,5]\n",
    "def seRepite(arr):\n",
    "    cont = 0\n",
    "    values = {}\n",
    "    for i in lista:\n",
    "        cont = 0\n",
    "        for j in lista:\n",
    "            if i == j:\n",
    "                cont += 1\n",
    "        values[i] = cont\n",
    "    return values\n",
    "\n",
    "numeros = seRepite(lista)\n",
    "\n",
    "print(f'Diccionario numeros {numeros}')\n",
    "\n",
    "aux1 = 0\n",
    "aux2 = 0\n",
    "for clave1 in numeros:\n",
    "    \n",
    "    for clave2 in numeros:\n",
    "        if numeros[clave1] > aux1:\n",
    "            aux1 = numeros[clave1]\n",
    "            aux2 = clave1\n",
    "\n",
    "print(f'Numero {aux2} repite {aux1} veces')"
   ]
  },
  {
   "cell_type": "markdown",
   "metadata": {},
   "source": [
    "4) A la función del punto 3, agregar un parámetro más, que permita elegir si se requiere el menor o el mayor de los mas repetidos."
   ]
  },
  {
   "cell_type": "code",
   "execution_count": 1,
   "metadata": {},
   "outputs": [
    {
     "name": "stdout",
     "output_type": "stream",
     "text": [
      "1\n"
     ]
    }
   ],
   "source": [
    "lista=[1,1,1,2,3,2,2,1,2,3,3,8,7,5]\n",
    "\n",
    "def seRepite(arr, menor_mayor = 'min'):\n",
    "    cont = 0\n",
    "    values = {}\n",
    "    # crea el diccionario con clave(numero) y valor (repeticiones)\n",
    "    for i in lista:\n",
    "        cont = 0\n",
    "        for j in lista:\n",
    "            if i == j:\n",
    "                cont += 1\n",
    "        values[i] = cont\n",
    "    aux = 0\n",
    "    arraux = []\n",
    "    # obtiene los valores que se repitieron mas\n",
    "    for key in values:\n",
    "        if values[key] > aux:\n",
    "            aux = values[key]\n",
    "    # Los que mas se repitieron los agrega a un array\n",
    "    for key2 in values:\n",
    "        if aux == values[key2]:\n",
    "            arraux.append(key2)\n",
    "    # el mayor de los dos\n",
    "    if menor_mayor == 'min':\n",
    "        return min(arraux)\n",
    "    else:\n",
    "        return max(arraux)\n",
    "\n",
    "print(seRepite(lista,'min'))"
   ]
  },
  {
   "cell_type": "markdown",
   "metadata": {},
   "source": [
    "5) Crear una función que convierta entre grados Celsius, Farenheit y Kelvin<br>\n",
    "Fórmula 1\t: (°C × 9/5) + 32 = °F<br>\n",
    "Fórmula 2\t: °C + 273.15 = °K<br>\n",
    "Debe recibir 3 parámetros: el valor, la medida de orígen y la medida de destino"
   ]
  },
  {
   "cell_type": "code",
   "execution_count": 3,
   "metadata": {},
   "outputs": [
    {
     "name": "stdout",
     "output_type": "stream",
     "text": [
      "Centigrados a Farenheit\n"
     ]
    },
    {
     "data": {
      "text/plain": [
       "73.4"
      ]
     },
     "execution_count": 3,
     "metadata": {},
     "output_type": "execute_result"
    }
   ],
   "source": [
    "def converGrades(valor,origen,destino):\n",
    "\n",
    "    if origen == 'f' and destino == 'k':\n",
    "        print('Farenheit a Kelvin')\n",
    "        return (valor + 459.67) * 5/9\n",
    "    if origen == 'f' and destino == 'c':\n",
    "        print('Farenheit a Centigrados')\n",
    "        return (valor - 32) * 5/9\n",
    "    if origen == 'k' and destino == 'c':\n",
    "        print('Kelvin a Centigrados')\n",
    "        return valor - 273.15\n",
    "    if origen == 'k' and destino == 'f':\n",
    "        print('Kelvin a Farenheit')\n",
    "        return 1.8*(valor - 273) + 32\n",
    "    if origen == 'c' and destino == 'f':\n",
    "        print('Centigrados a Farenheit')\n",
    "        return (valor*9/5)+32\n",
    "    if origen == 'c' and destino == 'k':\n",
    "        print('Centigrados a Kelvin')\n",
    "        return valor + 273.15\n",
    "\n",
    "converGrades(23,'c','f')"
   ]
  },
  {
   "cell_type": "markdown",
   "metadata": {},
   "source": [
    "6) Iterando una lista con los tres valores posibles de temperatura que recibe la función del punto 5, hacer un print para cada combinación de los mismos:"
   ]
  },
  {
   "cell_type": "code",
   "execution_count": null,
   "metadata": {},
   "outputs": [],
   "source": []
  },
  {
   "cell_type": "markdown",
   "metadata": {},
   "source": [
    "7) Armar una función que devuelva el factorial de un número. Tener en cuenta que el usuario puede equivocarse y enviar de parámetro un número no entero o negativo"
   ]
  },
  {
   "cell_type": "code",
   "execution_count": null,
   "metadata": {},
   "outputs": [],
   "source": []
  }
 ],
 "metadata": {
  "interpreter": {
   "hash": "916dbcbb3f70747c44a77c7bcd40155683ae19c65e1c03b4aa3499c5328201f1"
  },
  "kernelspec": {
   "display_name": "Python 3.8.10 64-bit",
   "language": "python",
   "name": "python3"
  },
  "language_info": {
   "codemirror_mode": {
    "name": "ipython",
    "version": 3
   },
   "file_extension": ".py",
   "mimetype": "text/x-python",
   "name": "python",
   "nbconvert_exporter": "python",
   "pygments_lexer": "ipython3",
   "version": "3.8.10"
  },
  "orig_nbformat": 4
 },
 "nbformat": 4,
 "nbformat_minor": 2
}
