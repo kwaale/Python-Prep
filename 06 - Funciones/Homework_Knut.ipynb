{
 "cells": [
  {
   "cell_type": "markdown",
   "metadata": {},
   "source": [
    "1) Crear una función que reciba un número como parámetro y devuelva True si es primo y False si no lo es"
   ]
  },
  {
   "cell_type": "code",
   "execution_count": 6,
   "metadata": {},
   "outputs": [
    {
     "name": "stdout",
     "output_type": "stream",
     "text": [
      "0\n",
      "1\n",
      "2\n",
      "5\n",
      "11\n",
      "13\n",
      "17\n",
      "19\n"
     ]
    }
   ],
   "source": [
    "def esPrimo(num):\n",
    "    if num == 2 or num == 1 or num == 5 or num == 0:\n",
    "        return True\n",
    "    for i in range(2,9):\n",
    "        if num % i == 0:\n",
    "            return False\n",
    "    return True\n",
    "# Prueba\n",
    "for i in range(0,20):\n",
    "    if(esPrimo(i)):\n",
    "        print(i)"
   ]
  },
  {
   "cell_type": "markdown",
   "metadata": {},
   "source": [
    "2) Utilizando la función del punto 1, realizar otra función que reciba de parámetro una lista de números y devuelva sólo aquellos que son primos en otra lista"
   ]
  },
  {
   "cell_type": "code",
   "execution_count": 9,
   "metadata": {},
   "outputs": [
    {
     "data": {
      "text/plain": [
       "[1, 2, 5, 47, 97, 89, 73]"
      ]
     },
     "execution_count": 9,
     "metadata": {},
     "output_type": "execute_result"
    }
   ],
   "source": [
    "lista=[1,2,3,45,6,8,7,5,25,47,56,8,97,89,73]\n",
    "def sonPrimos(arr):\n",
    "    aux = []\n",
    "    for i in arr:\n",
    "        if esPrimo(i):\n",
    "            aux.append(i)\n",
    "    return aux\n",
    "sonPrimos(lista)\n"
   ]
  },
  {
   "cell_type": "markdown",
   "metadata": {},
   "source": [
    "3) Crear una función que al recibir una lista de números, devuelva el que más se repite y cuántas veces lo hace. Si hay más de un \"más repetido\", que devuelva cualquiera"
   ]
  },
  {
   "cell_type": "code",
   "execution_count": 12,
   "metadata": {},
   "outputs": [
    {
     "ename": "TypeError",
     "evalue": "can only concatenate str (not \"int\") to str",
     "output_type": "error",
     "traceback": [
      "\u001b[0;31m---------------------------------------------------------------------------\u001b[0m",
      "\u001b[0;31mTypeError\u001b[0m                                 Traceback (most recent call last)",
      "\u001b[0;32m<ipython-input-12-0e0e62946fbb>\u001b[0m in \u001b[0;36m<module>\u001b[0;34m\u001b[0m\n\u001b[1;32m     21\u001b[0m             \u001b[0maux2\u001b[0m \u001b[0;34m=\u001b[0m \u001b[0mclave1\u001b[0m\u001b[0;34m\u001b[0m\u001b[0;34m\u001b[0m\u001b[0m\n\u001b[1;32m     22\u001b[0m \u001b[0;34m\u001b[0m\u001b[0m\n\u001b[0;32m---> 23\u001b[0;31m \u001b[0mprint\u001b[0m\u001b[0;34m(\u001b[0m\u001b[0;34m'Numero '\u001b[0m \u001b[0;34m+\u001b[0m \u001b[0maux2\u001b[0m \u001b[0;34m+\u001b[0m \u001b[0;34m' repite '\u001b[0m \u001b[0;34m+\u001b[0m \u001b[0maux1\u001b[0m \u001b[0;34m+\u001b[0m \u001b[0;34m' veces'\u001b[0m\u001b[0;34m)\u001b[0m\u001b[0;34m\u001b[0m\u001b[0;34m\u001b[0m\u001b[0m\n\u001b[0m\u001b[1;32m     24\u001b[0m \u001b[0;34m\u001b[0m\u001b[0m\n\u001b[1;32m     25\u001b[0m \u001b[0;34m\u001b[0m\u001b[0m\n",
      "\u001b[0;31mTypeError\u001b[0m: can only concatenate str (not \"int\") to str"
     ]
    }
   ],
   "source": [
    "lista=[1,1,1,2,3,1,2,3,45,6,8,7,5,25,47,56,8,5,97,89,73,1,2,3,45,6,8,7,5,25,47,56,8,5,97,89,73]\n",
    "def seRepite(arr):\n",
    "    cont = 0\n",
    "    values = {}\n",
    "    for i in lista:\n",
    "        cont = 0\n",
    "        for j in lista:\n",
    "            if i == j:\n",
    "                cont += 1\n",
    "        values[i] = cont\n",
    "    return values\n",
    "\n",
    "numeros = seRepite(lista)\n",
    "\n",
    "for clave1 in numeros:\n",
    "    aux1 = 0\n",
    "    aux2 = 0\n",
    "    for clave2 in numeros:\n",
    "        if numeros[clave1] > numeros[clave2]:\n",
    "            aux1 = numeros[clave1]\n",
    "            aux2 = clave1\n",
    "\n",
    "print('Numero ' + aux2 + ' repite ' + aux1 + ' veces')\n",
    "            \n",
    "\n"
   ]
  },
  {
   "cell_type": "markdown",
   "metadata": {},
   "source": [
    "\n",
    "\n",
    "4) A la función del punto 3, agregar un parámetro más, que permita elegir si se requiere el menor o el mayor de los mas repetidos.\n",
    "\n",
    "5) Crear una función que convierta entre grados Celsius, Farenheit y Kelvin<br>\n",
    "Fórmula 1\t: (°C × 9/5) + 32 = °F<br>\n",
    "Fórmula 2\t: °C + 273.15 = °K<br>\n",
    "Debe recibir 3 parámetros: el valor, la medida de orígen y la medida de destino\n",
    "\n",
    "\n",
    "6) Iterando una lista con los tres valores posibles de temperatura que recibe la función del punto 5, hacer un print para cada combinación de los mismos:\n",
    "\n",
    "7) Armar una función que devuelva el factorial de un número. Tener en cuenta que el usuario puede equivocarse y enviar de parámetro un número no entero o negativo\n",
    ","
   ]
  }
 ],
 "metadata": {
  "interpreter": {
   "hash": "916dbcbb3f70747c44a77c7bcd40155683ae19c65e1c03b4aa3499c5328201f1"
  },
  "kernelspec": {
   "display_name": "Python 3.8.10 64-bit",
   "language": "python",
   "name": "python3"
  },
  "language_info": {
   "codemirror_mode": {
    "name": "ipython",
    "version": 3
   },
   "file_extension": ".py",
   "mimetype": "text/x-python",
   "name": "python",
   "nbconvert_exporter": "python",
   "pygments_lexer": "ipython3",
   "version": "3.8.10"
  },
  "orig_nbformat": 4
 },
 "nbformat": 4,
 "nbformat_minor": 2
}
