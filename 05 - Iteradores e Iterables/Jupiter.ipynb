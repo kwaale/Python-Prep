{
 "cells": [
  {
   "cell_type": "markdown",
   "metadata": {},
   "source": [
    "## Iteradores e iterables\n",
    "\n",
    "1) A partir de una lista vacía, utilizar un ciclo while para cargar allí números negativos del -15 al -1"
   ]
  },
  {
   "cell_type": "code",
   "execution_count": 1,
   "metadata": {},
   "outputs": [
    {
     "name": "stdout",
     "output_type": "stream",
     "text": [
      "-15\n",
      "-14\n",
      "-13\n",
      "-12\n",
      "-11\n",
      "-10\n",
      "-9\n",
      "-8\n",
      "-7\n",
      "-6\n",
      "-5\n",
      "-4\n",
      "-3\n",
      "-2\n",
      "-1\n",
      "[-15, -14, -13, -12, -11, -10, -9, -8, -7, -6, -5, -4, -3, -2, -1]\n"
     ]
    }
   ],
   "source": [
    "lista_v = []\n",
    "rest = -15\n",
    "for i in range(1,16):\n",
    "    lista_v.append(rest)\n",
    "    print(rest)\n",
    "    rest += 1\n",
    "print(lista_v)"
   ]
  },
  {
   "cell_type": "markdown",
   "metadata": {},
   "source": [
    "2) ¿Con un ciclo while sería posible recorrer la lista para imprimir sólo los números pares?"
   ]
  },
  {
   "cell_type": "code",
   "execution_count": 2,
   "metadata": {},
   "outputs": [
    {
     "name": "stdout",
     "output_type": "stream",
     "text": [
      "[1, 2, 3, 4, 5, 6, 7, 8, 9, 10, 11, 12, 13, 14, 15, 16, 17, 18, 19, 20]\n"
     ]
    },
    {
     "data": {
      "text/plain": [
       "[2, 4, 6, 8, 10, 12, 14, 16, 18, 20]"
      ]
     },
     "execution_count": 2,
     "metadata": {},
     "output_type": "execute_result"
    }
   ],
   "source": [
    "lista_comun = []\n",
    "lista_pares = []\n",
    "for i in range(1,21):\n",
    "    lista_comun.append(i)\n",
    "print(lista_comun)\n",
    "\n",
    "for j in lista_comun:\n",
    "    if(j % 2 == 0):\n",
    "        lista_pares.append(j)\n",
    "lista_pares"
   ]
  },
  {
   "cell_type": "markdown",
   "metadata": {},
   "source": [
    "3) Resolver el punto anterior sin utilizar un ciclo while"
   ]
  },
  {
   "cell_type": "code",
   "execution_count": null,
   "metadata": {},
   "outputs": [],
   "source": [
    "lista_pares_b = []\n",
    "i = 0\n",
    "aux = 0\n",
    "while(len(lista_comun) > i):\n",
    "    aux = lista_comun[i]\n",
    "    if(aux % 2 == 0):\n",
    "        lista_pares_b.append(aux)\n",
    "    i += 1\n",
    "lista_pares_b"
   ]
  },
  {
   "cell_type": "markdown",
   "metadata": {},
   "source": [
    "4) Utilizar el iterable para recorrer sólo los primeros 3 elementos"
   ]
  },
  {
   "cell_type": "code",
   "execution_count": null,
   "metadata": {},
   "outputs": [
    {
     "name": "stdout",
     "output_type": "stream",
     "text": [
      "1\n",
      "2\n",
      "3\n"
     ]
    }
   ],
   "source": [
    "for i in lista_comun[0:3]:\n",
    "    print(i)"
   ]
  },
  {
   "cell_type": "markdown",
   "metadata": {},
   "source": [
    "5) Utilizar la función **enumerate** para obtener dentro del iterable, tambien el índice al que corresponde el elemento"
   ]
  },
  {
   "cell_type": "code",
   "execution_count": null,
   "metadata": {},
   "outputs": [
    {
     "name": "stdout",
     "output_type": "stream",
     "text": [
      "0 1\n",
      "1 2\n",
      "2 3\n",
      "3 4\n",
      "4 5\n",
      "5 6\n",
      "6 7\n",
      "7 8\n",
      "8 9\n",
      "9 10\n",
      "10 11\n",
      "11 12\n",
      "12 13\n",
      "13 14\n",
      "14 15\n",
      "15 16\n",
      "16 17\n",
      "17 18\n",
      "18 19\n",
      "19 20\n"
     ]
    }
   ],
   "source": [
    "for i,j in enumerate(lista_comun):\n",
    "    print(i, j)"
   ]
  },
  {
   "cell_type": "markdown",
   "metadata": {},
   "source": [
    "6) Dada la siguiente lista de números enteros entre 1 y 20, crear un ciclo donde se completen los valores faltantes: lista = [1,2,5,7,8,10,13,14,15,17,20]"
   ]
  },
  {
   "cell_type": "code",
   "execution_count": null,
   "metadata": {},
   "outputs": [
    {
     "name": "stdout",
     "output_type": "stream",
     "text": [
      "[1, 2, 3, 4, 5, 6, 7, 8, 9, 10, 11, 12, 13, 14, 15, 16, 17, 18, 19, 20]\n"
     ]
    }
   ],
   "source": [
    "lista_a = [1,2,5,7,8,10,13,14,15,17,20]\n",
    "j = 0\n",
    "for i in range(1,21):\n",
    "    n = lista_a[j]\n",
    "    j += 1\n",
    "    if(n != i):\n",
    "        lista_a.insert(i-1, j)\n",
    "print(lista_a)"
   ]
  },
  {
   "cell_type": "markdown",
   "metadata": {},
   "source": [
    "7) La sucesión de Fibonacci es un listado de números que sigue la fórmula: <br>\n",
    "n<sub>0</sub> = 0<br>\n",
    "n<sub>1</sub> = 1<br>\n",
    "n<sub>i</sub> = n<sub>i-1</sub> + n<sub>i-2</sub><br>\n",
    "Crear una lista con los primeros treinta números de la sucesión.<br>"
   ]
  },
  {
   "cell_type": "code",
   "execution_count": 3,
   "metadata": {},
   "outputs": [
    {
     "name": "stdout",
     "output_type": "stream",
     "text": [
      "Vuelta:  0\n",
      "not lista_fibonacci True\n",
      "Vuelta:  1\n",
      "not lista_fibonacci False\n",
      "Vuelta:  2\n",
      "not lista_fibonacci False\n",
      "Vuelta:  3\n",
      "not lista_fibonacci False\n",
      "Vuelta:  4\n",
      "not lista_fibonacci False\n",
      "Vuelta:  5\n",
      "not lista_fibonacci False\n",
      "Vuelta:  6\n",
      "not lista_fibonacci False\n",
      "Vuelta:  7\n",
      "not lista_fibonacci False\n",
      "Vuelta:  8\n",
      "not lista_fibonacci False\n",
      "Vuelta:  9\n",
      "not lista_fibonacci False\n",
      "Vuelta:  10\n",
      "not lista_fibonacci False\n",
      "Vuelta:  11\n",
      "not lista_fibonacci False\n",
      "Vuelta:  12\n",
      "not lista_fibonacci False\n",
      "Vuelta:  13\n",
      "not lista_fibonacci False\n",
      "Vuelta:  14\n",
      "not lista_fibonacci False\n",
      "Vuelta:  15\n",
      "not lista_fibonacci False\n",
      "Vuelta:  16\n",
      "not lista_fibonacci False\n",
      "Vuelta:  17\n",
      "not lista_fibonacci False\n",
      "Vuelta:  18\n",
      "not lista_fibonacci False\n",
      "Vuelta:  19\n",
      "not lista_fibonacci False\n",
      "Vuelta:  20\n",
      "not lista_fibonacci False\n",
      "Vuelta:  21\n",
      "not lista_fibonacci False\n",
      "Vuelta:  22\n",
      "not lista_fibonacci False\n",
      "Vuelta:  23\n",
      "not lista_fibonacci False\n",
      "Vuelta:  24\n",
      "not lista_fibonacci False\n",
      "Vuelta:  25\n",
      "not lista_fibonacci False\n",
      "Vuelta:  26\n",
      "not lista_fibonacci False\n",
      "Vuelta:  27\n",
      "not lista_fibonacci False\n",
      "[0, 1, 1, 2, 3, 5, 8, 13, 21, 34, 55, 89, 144, 233, 377, 610, 987, 1597, 2584, 4181, 6765, 10946, 17711, 28657, 46368, 75025, 121393, 196418, 317811, 514229]\n",
      "Logitud lista:  30\n"
     ]
    }
   ],
   "source": [
    "lista_fibonacci = []\n",
    "for i in range(0,28):\n",
    "    if(not lista_fibonacci):\n",
    "        lista_fibonacci.append(0)\n",
    "    if(len(lista_fibonacci) > 2):\n",
    "        aux = lista_fibonacci[len(lista_fibonacci) - 1] + lista_fibonacci[len(lista_fibonacci) - 2]\n",
    "        lista_fibonacci.append(aux)\n",
    "    if(len(lista_fibonacci) == 1 and lista_fibonacci[0] == 0):\n",
    "        lista_fibonacci.append(1)\n",
    "    if(len(lista_fibonacci) == 2 and lista_fibonacci[len(lista_fibonacci) - 1] == 1):\n",
    "        lista_fibonacci.append(1)\n",
    "print(lista_fibonacci);\n",
    "print('Logitud lista: ', len(lista_fibonacci));"
   ]
  },
  {
   "cell_type": "markdown",
   "metadata": {},
   "source": [
    "8) Realizar la suma de todos elementos de la lista del punto anterior"
   ]
  },
  {
   "cell_type": "code",
   "execution_count": 1,
   "metadata": {},
   "outputs": [
    {
     "name": "stdout",
     "output_type": "stream",
     "text": [
      "fin for\n",
      "Inici for 0\n",
      "Val 0\n",
      "sum 0\n",
      "Inici for 1\n",
      "Val 1\n",
      "sum 1\n",
      "Inici for 1\n",
      "Val 1\n",
      "sum 2\n",
      "Inici for 2\n",
      "Val 1\n",
      "sum 3\n",
      "Inici for 3\n",
      "Val 2\n",
      "sum 5\n",
      "Inici for 5\n",
      "Val 5\n",
      "sum 10\n",
      "Inici for 8\n",
      "Val 21\n",
      "sum 31\n",
      "Inici for 13\n",
      "Val 233\n",
      "sum 264\n",
      "Inici for 21\n",
      "Val 10946\n",
      "sum 11210\n",
      "Inici for 34\n"
     ]
    }
   ],
   "source": [
    "lista_fibonacci = []\n",
    "for i in range(0,28):\n",
    "    if(not lista_fibonacci):\n",
    "        lista_fibonacci.append(0)\n",
    "    if(len(lista_fibonacci) > 2):\n",
    "        aux = lista_fibonacci[len(lista_fibonacci) - 1] + lista_fibonacci[len(lista_fibonacci) - 2]\n",
    "        lista_fibonacci.append(aux)\n",
    "    if(len(lista_fibonacci) == 1 and lista_fibonacci[0] == 0):\n",
    "        lista_fibonacci.append(1)\n",
    "    if(len(lista_fibonacci) == 2 and lista_fibonacci[len(lista_fibonacci) - 1] == 1):\n",
    "        lista_fibonacci.append(1)\n",
    "print('fin for')\n",
    "sum = 0\n",
    "for i in lista_fibonacci:\n",
    "    print('Inici for',i)\n",
    "    val = lista_fibonacci[i]\n",
    "    print('Val',val)\n",
    "    sum += val\n",
    "    print('sum',sum)\n",
    "print('Suma',sum)"
   ]
  },
  {
   "cell_type": "markdown",
   "metadata": {},
   "source": [
    "10) A partir de la variable cadena ya dada, mostrar en qué posiciones aparece la letra \"n\"<br>\n",
    "cadena = 'Hola Mundo. Esto es una practica del lenguaje de programación Python'."
   ]
  },
  {
   "cell_type": "code",
   "execution_count": 7,
   "metadata": {},
   "outputs": [
    {
     "name": "stdout",
     "output_type": "stream",
     "text": [
      "Hay  n psosion  7\n",
      "Hay  n psosion  21\n",
      "Hay  n psosion  39\n",
      "Hay  n psosion  60\n",
      "Hay  n psosion  67\n"
     ]
    }
   ],
   "source": [
    "cadena = 'Hola Mundo. Esto es una practica del lenguaje de programación Python'\n",
    "sum = 0\n",
    "for i in cadena:\n",
    "    if (i == 'n'):\n",
    "        print('Hay ', i, 'psosion ', sum)\n",
    "    sum += 1\n",
    "\n",
    "    "
   ]
  },
  {
   "cell_type": "markdown",
   "metadata": {},
   "source": [
    "11) Crear un diccionario e imprimir sus claves utilizando un iterador"
   ]
  },
  {
   "cell_type": "code",
   "execution_count": 11,
   "metadata": {},
   "outputs": [
    {
     "name": "stdout",
     "output_type": "stream",
     "text": [
      "valor 1  :  1\n",
      "valor 2  :  hola\n",
      "valor 3  :  3\n"
     ]
    }
   ],
   "source": [
    "mi_diccionario = {\n",
    "    'valor 1': 1,\n",
    "    'valor 2': 'hola',\n",
    "    'valor 3': 3,\n",
    "}\n",
    "for key in mi_diccionario:\n",
    "    print(key, ' : ', mi_diccionario[key])"
   ]
  },
  {
   "cell_type": "markdown",
   "metadata": {},
   "source": [
    "12) Convertir en una lista la variable \"cadena\" del punto 10 y luego recorrerla con un iterador"
   ]
  },
  {
   "cell_type": "code",
   "execution_count": 1,
   "metadata": {},
   "outputs": [
    {
     "name": "stdout",
     "output_type": "stream",
     "text": [
      "['H', 'o', 'l', 'a', ' ', 'M', 'u', 'n', 'd', 'o', '.', ' ', 'E', 's', 't', 'o', ' ', 'e', 's', ' ', 'u', 'n', 'a', ' ', 'p', 'r', 'a', 'c', 't', 'i', 'c', 'a', ' ', 'd', 'e', 'l', ' ', 'l', 'e', 'n', 'g', 'u', 'a', 'j', 'e', ' ', 'd', 'e', ' ', 'p', 'r', 'o', 'g', 'r', 'a', 'm', 'a', 'c', 'i', 'ó', 'n', ' ', 'P', 'y', 't', 'h', 'o', 'n']\n",
      "H\n",
      "o\n",
      "l\n",
      "a\n",
      " \n",
      "M\n",
      "u\n",
      "n\n",
      "d\n",
      "o\n",
      ".\n",
      " \n",
      "E\n",
      "s\n",
      "t\n",
      "o\n",
      " \n",
      "e\n",
      "s\n",
      " \n",
      "u\n",
      "n\n",
      "a\n",
      " \n",
      "p\n",
      "r\n",
      "a\n",
      "c\n",
      "t\n",
      "i\n",
      "c\n",
      "a\n",
      " \n",
      "d\n",
      "e\n",
      "l\n",
      " \n",
      "l\n",
      "e\n",
      "n\n",
      "g\n",
      "u\n",
      "a\n",
      "j\n",
      "e\n",
      " \n",
      "d\n",
      "e\n",
      " \n",
      "p\n",
      "r\n",
      "o\n",
      "g\n",
      "r\n",
      "a\n",
      "m\n",
      "a\n",
      "c\n",
      "i\n",
      "ó\n",
      "n\n",
      " \n",
      "P\n",
      "y\n",
      "t\n",
      "h\n",
      "o\n",
      "n\n"
     ]
    }
   ],
   "source": [
    "cadena = 'Hola Mundo. Esto es una practica del lenguaje de programación Python'\n",
    "lista_cadena = list(cadena)\n",
    "print(lista_cadena)\n",
    "for i in lista_cadena:\n",
    "    print(i)\n",
    "\n"
   ]
  },
  {
   "cell_type": "markdown",
   "metadata": {},
   "source": [
    "13) Crear dos listas y unirlas en una tupla utilizando la función zip"
   ]
  },
  {
   "cell_type": "code",
   "execution_count": 2,
   "metadata": {},
   "outputs": [
    {
     "name": "stdout",
     "output_type": "stream",
     "text": [
      "[('primer valor', '1'), ('segundo valor', '2'), ('tercer valor', '3')]\n"
     ]
    }
   ],
   "source": [
    "lista_1 = ['primer valor', 'segundo valor', 'tercer valor']\n",
    "lista_2 = ['1', '2', '3']\n",
    "\n",
    "print(list(zip(lista_1,lista_2)))\n"
   ]
  },
  {
   "cell_type": "markdown",
   "metadata": {},
   "source": [
    "14) A partir de la siguiente lista de números, crear una nueva sólo si el número es divisible por 7<br>\n",
    "lis = [18,21,29,32,35,42,56,60,63,71,84,90,91,100]"
   ]
  },
  {
   "cell_type": "code",
   "execution_count": 4,
   "metadata": {},
   "outputs": [
    {
     "name": "stdout",
     "output_type": "stream",
     "text": [
      "[21, 35, 42, 56, 63, 84, 91]\n"
     ]
    }
   ],
   "source": [
    "lis = [18,21,29,32,35,42,56,60,63,71,84,90,91,100]\n",
    "divisibles_7 = []\n",
    "for i in lis:\n",
    "    if(i % 7 == 0):\n",
    "        divisibles_7.append(i)\n",
    "print(divisibles_7)"
   ]
  },
  {
   "cell_type": "markdown",
   "metadata": {},
   "source": [
    "15) A partir de la lista de a continuación, contar la cantidad total de elementos que contiene, teniendo en cuenta que un elemento de la lista podría ser otra lista:<br>\n",
    "lis = [[1,2,3,4],'rojo','verde',[True,False,False],['uno','dos','tres']]"
   ]
  },
  {
   "cell_type": "code",
   "execution_count": 6,
   "metadata": {},
   "outputs": [],
   "source": [
    "lis = [[1,2,3,4],'rojo','verde',[True,False,False],['uno','dos','tres']]\n",
    "for i in lis:\n",
    "    print(type(i))\n",
    "    if type(i) == 'list':\n",
    "        print(i)\n"
   ]
  },
  {
   "cell_type": "markdown",
   "metadata": {},
   "source": [
    "16) Tomar la lista del punto anterior y convertir cada elemento en una lista si no lo es\n"
   ]
  }
 ],
 "metadata": {
  "interpreter": {
   "hash": "36cf16204b8548560b1c020c4e8fb5b57f0e4c58016f52f2d4be01e192833930"
  },
  "kernelspec": {
   "display_name": "Python 3.9.10 64-bit",
   "language": "python",
   "name": "python3"
  },
  "language_info": {
   "codemirror_mode": {
    "name": "ipython",
    "version": 3
   },
   "file_extension": ".py",
   "mimetype": "text/x-python",
   "name": "python",
   "nbconvert_exporter": "python",
   "pygments_lexer": "ipython3",
   "version": "3.9.10"
  },
  "orig_nbformat": 4
 },
 "nbformat": 4,
 "nbformat_minor": 2
}
